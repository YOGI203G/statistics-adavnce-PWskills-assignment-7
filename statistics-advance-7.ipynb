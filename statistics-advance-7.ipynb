{
 "cells": [
  {
   "cell_type": "markdown",
   "id": "e8a98ca8-e1eb-4d64-beaf-f19d7ec18843",
   "metadata": {},
   "source": [
    "Q1. Write a Python function that takes in two arrays of data and calculates the F-value for a variance ratio\n",
    "test. The function should return the F-value and the corresponding p-value for the test."
   ]
  },
  {
   "cell_type": "code",
   "execution_count": 1,
   "id": "87a09e1d-08e1-4c04-b860-2ab704129cb8",
   "metadata": {},
   "outputs": [
    {
     "name": "stdout",
     "output_type": "stream",
     "text": [
      "F-value: 1.00\n",
      "P-value: 0.5000\n"
     ]
    }
   ],
   "source": [
    "import numpy as np\n",
    "from scipy.stats import f\n",
    "\n",
    "def var_ratio_test(arr1, arr2):\n",
    "    #calculate the variances of each array\n",
    "    var1 = np.var(arr1, ddof=1)\n",
    "    var2 = np.var(arr2, ddof=1)\n",
    "\n",
    "    #calculate the F-value\n",
    "    f_value = var1 / var2\n",
    "\n",
    "    #calculate the degrees of freedom\n",
    "    df1 = len(arr1) - 1\n",
    "    df2 = len(arr2) - 1\n",
    "\n",
    "    #calculate the p-value\n",
    "    p_value = f.cdf(f_value, df1, df2)\n",
    "\n",
    "    return f_value, p_value\n",
    "\n",
    "arr1 = [1, 2, 3, 4, 5]\n",
    "arr2 = [6, 7, 8, 9, 10]\n",
    "\n",
    "f_value, p_value = var_ratio_test(arr1, arr2)\n",
    "\n",
    "print(f\"F-value: {f_value:.2f}\")\n",
    "print(f\"P-value: {p_value:.4f}\")"
   ]
  },
  {
   "cell_type": "markdown",
   "id": "3588e153-0e51-41e0-ac99-f7f56f585850",
   "metadata": {},
   "source": [
    "Q2. Given a significance level of 0.05 and the degrees of freedom for the numerator and denominator of an\n",
    "F-distribution, write a Python function that returns the critical F-value for a two-tailed test."
   ]
  },
  {
   "cell_type": "code",
   "execution_count": 2,
   "id": "5a744b66-7f46-4a23-8a2d-ac6fbf329b45",
   "metadata": {},
   "outputs": [
    {
     "name": "stdout",
     "output_type": "stream",
     "text": [
      "Critical F-value: 4.0768\n"
     ]
    }
   ],
   "source": [
    "from scipy.stats import f\n",
    "\n",
    "def critical_f_value(dfn,dfd, alpha=0.05):\n",
    "    f_crit = f.ppf(1-alpha/2, dfn, dfd)\n",
    "\n",
    "    return f_crit\n",
    "\n",
    "dfn = 3\n",
    "dfd = 16\n",
    "alpha = 0.05\n",
    "\n",
    "f_crit = critical_f_value(dfn, dfd, alpha)\n",
    "\n",
    "print(f\"Critical F-value: {f_crit:.4f}\")"
   ]
  },
  {
   "cell_type": "markdown",
   "id": "279d2884-404e-4b96-ad38-4d8da1dead5c",
   "metadata": {},
   "source": [
    "Q3. Write a Python program that generates random samples from two normal distributions with known\n",
    "variances and uses an F-test to determine if the variances are equal. The program should output the Fvalue, degrees of freedom, and p-value for the test."
   ]
  },
  {
   "cell_type": "code",
   "execution_count": 3,
   "id": "870de107-f9c0-44d8-8fee-43b72bdd5ba9",
   "metadata": {},
   "outputs": [],
   "source": [
    "import numpy as np\n",
    "from scipy.stats import f\n",
    "\n",
    "def f_test(sample1, sample2, var1, var2, alpha=0.05):\n",
    "    s1_var = np.var(sample1, ddof=1)\n",
    "    s2_var = np.var(sample2, ddof=1)\n",
    "\n",
    "    f_value = s1_var / s2_var if s1_var > s2_var else s2_var / s1_var\n",
    "\n",
    "    dfn = len(sample1) - 1 if s1_var > s2_var else len(sample2) - 1\n",
    "    dfd = len(sample2) - 1 if s1_var > s2_var else len(sample1) - 1\n",
    "\n",
    "    p_value = f.sf(f_value, dfn, dfd)\n",
    "\n",
    "    if p_value < alpha:\n",
    "        print(\"The null hypothesis that the variances are equal is rejected.\")\n",
    "    else:\n",
    "        print(\"The null hypothesis that the variances are equal is not rejected.\")\n",
    "\n",
    "    return f_value, dfn, dfd, p_value\n"
   ]
  },
  {
   "cell_type": "code",
   "execution_count": 4,
   "id": "cf945f6a-132c-4b06-ad95-2f3f3ad33404",
   "metadata": {},
   "outputs": [
    {
     "name": "stdout",
     "output_type": "stream",
     "text": [
      "The null hypothesis that the variances are equal is not rejected.\n",
      "F-value: 1.7070\n",
      "Degrees of freedom (numerator): 19\n",
      "Degrees of freedom (denominator): 19\n",
      "P-value: 0.1264\n"
     ]
    }
   ],
   "source": [
    "np.random.seed(123)\n",
    "\n",
    "#generate two random samples from normal distributions with known variances\n",
    "sample1 = np.random.normal(10, 2, size=20)\n",
    "sample2 = np.random.normal(10, 3, size=20)\n",
    "\n",
    "#perform an F-test to determine if the variances are equal\n",
    "f_value, dfn, dfd, p_value = f_test(sample1, sample2, var1=2**2, var2=3**2)\n",
    "\n",
    "print(f\"F-value: {f_value:.4f}\")\n",
    "print(f\"Degrees of freedom (numerator): {dfn}\")\n",
    "print(f\"Degrees of freedom (denominator): {dfd}\")\n",
    "print(f\"P-value: {p_value:.4f}\")"
   ]
  },
  {
   "cell_type": "markdown",
   "id": "6c2f5080-05da-41ca-982b-b2ec0894bf57",
   "metadata": {},
   "source": [
    "Q4.The variances of two populations are known to be 10 and 15. A sample of 12 observations is taken from\n",
    "each population. Conduct an F-test at the 5% significance level to determine if the variances are\n",
    "significantly different."
   ]
  },
  {
   "cell_type": "markdown",
   "id": "b27b7428-7959-4481-a9e9-0d92294ed73f",
   "metadata": {},
   "source": [
    "Final answer is:\n",
    "\n",
    "Failed to reject null hypothesis\n",
    "Variance of two populations are equal"
   ]
  },
  {
   "cell_type": "markdown",
   "id": "24cb458f-0e5d-4409-ba31-afb4c7cbe9bc",
   "metadata": {},
   "source": [
    "![title](4.jpeg)"
   ]
  },
  {
   "cell_type": "markdown",
   "id": "9c715e5b-4470-4f1a-9ddb-923ea70eae75",
   "metadata": {},
   "source": [
    "Q5. A manufacturer claims that the variance of the diameter of a certain product is 0.005. A sample of 25\n",
    "products is taken, and the sample variance is found to be 0.006. Conduct an F-test at the 1% significance\n",
    "level to determine if the claim is justified."
   ]
  },
  {
   "cell_type": "markdown",
   "id": "7bf0ee3f-3b74-4122-be60-bd322903be6b",
   "metadata": {},
   "source": [
    "Final answer is:\n",
    "\n",
    "Failed to reject null hypothesis\n",
    "Claimed variance is justified"
   ]
  },
  {
   "cell_type": "markdown",
   "id": "967a733f-58b2-4795-9286-6f5b3415d202",
   "metadata": {},
   "source": [
    "![title](5.jpeg)"
   ]
  },
  {
   "cell_type": "markdown",
   "id": "aede23ee-3aba-49b4-a8a5-855d7d400299",
   "metadata": {},
   "source": [
    "Q6. Write a Python function that takes in the degrees of freedom for the numerator and denominator of an\n",
    "F-distribution and calculates the mean and variance of the distribution. The function should return the\n",
    "mean and variance as a tuple."
   ]
  },
  {
   "cell_type": "code",
   "execution_count": 6,
   "id": "3dba652b-5360-470f-952a-72dcc0b0c782",
   "metadata": {},
   "outputs": [
    {
     "name": "stdout",
     "output_type": "stream",
     "text": [
      "Mean:  1.25\n",
      "Variance:  1.3541666666666667\n"
     ]
    }
   ],
   "source": [
    "import numpy as np\n",
    "from scipy.stats import f\n",
    "\n",
    "def f_distribution_mean_var(dfn, dfd):\n",
    "    mean = dfd / (dfd - 2)\n",
    "    variance = (2 * dfd**2 * (dfn + dfd - 2)) / (dfn * (dfd - 2)**2 * (dfd - 4))\n",
    "    return (mean, variance)\n",
    "\n",
    "mean, variance = f_distribution_mean_var(5, 10)\n",
    "print(\"Mean: \", mean)\n",
    "print(\"Variance: \", variance)"
   ]
  },
  {
   "cell_type": "markdown",
   "id": "eefa96f0-ea97-40a8-b4a3-3067cb406ca0",
   "metadata": {},
   "source": [
    "Q7. A random sample of 10 measurements is taken from a normal population with unknown variance. The\n",
    "sample variance is found to be 25. Another random sample of 15 measurements is taken from another\n",
    "normal population with unknown variance, and the sample variance is found to be 20. Conduct an F-test\n",
    "at the 10% significance level to determine if the variances are significantly different."
   ]
  },
  {
   "cell_type": "markdown",
   "id": "168f0a5b-14bf-4e9a-911d-7b824cb9ea7d",
   "metadata": {},
   "source": [
    "Final answer is:\n",
    "\n",
    "Failed to reject null hypothesis\n",
    "Variances are equal"
   ]
  },
  {
   "cell_type": "markdown",
   "id": "b098105b-9a7b-40cb-9475-a688e1d91947",
   "metadata": {},
   "source": [
    "![title](7.jpeg)"
   ]
  },
  {
   "cell_type": "markdown",
   "id": "9b58312b-4859-4060-9fbe-5a8882806b33",
   "metadata": {},
   "source": [
    "Q8. The following data represent the waiting times in minutes at two different restaurants on a Saturday\n",
    "night: Restaurant A: 24, 25, 28, 23, 22, 20, 27; Restaurant B: 31, 33, 35, 30, 32, 36. Conduct an F-test at the 5%\n",
    "significance level to determine if the variances are significantly different."
   ]
  },
  {
   "cell_type": "markdown",
   "id": "889ab413-a868-445e-9e7f-0f60ce68057f",
   "metadata": {},
   "source": [
    "Final answer is:\n",
    "\n",
    "Failed to reject null hypothesis"
   ]
  },
  {
   "cell_type": "markdown",
   "id": "d8bcd428-08ba-4b9c-bbbe-6db800ba2cd2",
   "metadata": {},
   "source": [
    "![title](8.jpeg)"
   ]
  },
  {
   "cell_type": "markdown",
   "id": "00652b14-ce84-4abd-b540-9c25e6bfcbfc",
   "metadata": {},
   "source": [
    "Q9. The following data represent the test scores of two groups of students: Group A: 80, 85, 90, 92, 87, 83;\n",
    "Group B: 75, 78, 82, 79, 81, 84. Conduct an F-test at the 1% significance level to determine if the variances\n",
    "are significantly different.\n"
   ]
  },
  {
   "cell_type": "markdown",
   "id": "1b87dd50-5d58-49de-8ca0-4d613fae7353",
   "metadata": {},
   "source": [
    "Final answer is:\n",
    "\n",
    "Failed to reject null hypothesis\n",
    "Variances are equal"
   ]
  },
  {
   "cell_type": "markdown",
   "id": "9e081d62-f093-4816-9fd6-2e37a02277c1",
   "metadata": {},
   "source": [
    "![title](9.jpeg)"
   ]
  },
  {
   "cell_type": "code",
   "execution_count": null,
   "id": "b5be250a-0cd6-41f3-971b-1489bf85314e",
   "metadata": {},
   "outputs": [],
   "source": []
  }
 ],
 "metadata": {
  "kernelspec": {
   "display_name": "Python 3 (ipykernel)",
   "language": "python",
   "name": "python3"
  },
  "language_info": {
   "codemirror_mode": {
    "name": "ipython",
    "version": 3
   },
   "file_extension": ".py",
   "mimetype": "text/x-python",
   "name": "python",
   "nbconvert_exporter": "python",
   "pygments_lexer": "ipython3",
   "version": "3.10.8"
  }
 },
 "nbformat": 4,
 "nbformat_minor": 5
}
